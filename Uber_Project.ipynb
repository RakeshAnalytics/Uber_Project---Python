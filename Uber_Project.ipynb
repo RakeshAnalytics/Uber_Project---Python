{
 "cells": [
  {
   "cell_type": "code",
   "execution_count": 1,
   "id": "037f46ad-e6da-4b23-8b09-ed4fc5464e41",
   "metadata": {},
   "outputs": [],
   "source": [
    "import pandas as pd\n",
    "import numpy as np\n",
    "import matplotlib.pyplot as plt\n",
    "import seaborn as sns"
   ]
  },
  {
   "cell_type": "markdown",
   "id": "36202992-3075-412f-89c3-906ff2b84305",
   "metadata": {},
   "source": [
    "# Data Cleaning Of American Table "
   ]
  },
  {
   "cell_type": "code",
   "execution_count": 2,
   "id": "cb68ed1c-68f5-4d7b-b034-9bf4dbf6f259",
   "metadata": {},
   "outputs": [
    {
     "data": {
      "text/html": [
       "<div>\n",
       "<style scoped>\n",
       "    .dataframe tbody tr th:only-of-type {\n",
       "        vertical-align: middle;\n",
       "    }\n",
       "\n",
       "    .dataframe tbody tr th {\n",
       "        vertical-align: top;\n",
       "    }\n",
       "\n",
       "    .dataframe thead th {\n",
       "        text-align: right;\n",
       "    }\n",
       "</style>\n",
       "<table border=\"1\" class=\"dataframe\">\n",
       "  <thead>\n",
       "    <tr style=\"text-align: right;\">\n",
       "      <th></th>\n",
       "      <th>DATE</th>\n",
       "      <th>TIME</th>\n",
       "      <th>PICK UP ADDRESS</th>\n",
       "    </tr>\n",
       "  </thead>\n",
       "  <tbody>\n",
       "    <tr>\n",
       "      <th>0</th>\n",
       "      <td>07/01/2014</td>\n",
       "      <td>12:00:00 AM</td>\n",
       "      <td>874 E 139th St Mott Haven, BX</td>\n",
       "    </tr>\n",
       "    <tr>\n",
       "      <th>1</th>\n",
       "      <td>07/01/2014</td>\n",
       "      <td>12:01:00 AM</td>\n",
       "      <td>628 E 141st St Mott Haven, BX</td>\n",
       "    </tr>\n",
       "  </tbody>\n",
       "</table>\n",
       "</div>"
      ],
      "text/plain": [
       "         DATE         TIME                 PICK UP ADDRESS\n",
       "0  07/01/2014  12:00:00 AM   874 E 139th St Mott Haven, BX\n",
       "1  07/01/2014  12:01:00 AM   628 E 141st St Mott Haven, BX"
      ]
     },
     "execution_count": 2,
     "metadata": {},
     "output_type": "execute_result"
    }
   ],
   "source": [
    "American = pd.read_csv(r'C:\\Users\\admin\\Desktop\\Practice Assignment for Python\\Uber\\Datasets\\other-American_B01362.csv')\n",
    "American.head(2)"
   ]
  },
  {
   "cell_type": "code",
   "execution_count": 3,
   "id": "d22c0cae-b2e3-4dd1-8496-45f87619664e",
   "metadata": {},
   "outputs": [
    {
     "name": "stdout",
     "output_type": "stream",
     "text": [
      "In dataset Rows & Columns has :  (91712, 3)\n",
      "The duplicate Vaues is : 588\n",
      "The Missing Values are below : \n",
      "DATE               0\n",
      "TIME               0\n",
      "PICK UP ADDRESS    0\n",
      "dtype: int64\n"
     ]
    }
   ],
   "source": [
    "\n",
    "# cheking Rows and columns count\n",
    "print(f\"In dataset Rows & Columns has : \", American.shape)\n",
    "\n",
    "# Checking duplicate values in dataset\n",
    "print(f\"The duplicate Vaues is :\",American.duplicated().sum())\n",
    "\n",
    "# Find out missing values \n",
    "missing_data = American.isnull().sum()\n",
    "print(f\"The Missing Values are below : \\n{missing_data}\")\n"
   ]
  },
  {
   "cell_type": "code",
   "execution_count": null,
   "id": "ec71436d-4023-40e6-ae94-009062f46c65",
   "metadata": {},
   "outputs": [],
   "source": []
  },
  {
   "cell_type": "markdown",
   "id": "6d57cc72-2745-4230-aac9-4927da2d54c1",
   "metadata": {},
   "source": [
    "# Data Cleaning Of Carmel Table "
   ]
  },
  {
   "cell_type": "code",
   "execution_count": 4,
   "id": "0ca13493-94d6-4a15-9c89-b9778264bfce",
   "metadata": {},
   "outputs": [
    {
     "data": {
      "text/html": [
       "<div>\n",
       "<style scoped>\n",
       "    .dataframe tbody tr th:only-of-type {\n",
       "        vertical-align: middle;\n",
       "    }\n",
       "\n",
       "    .dataframe tbody tr th {\n",
       "        vertical-align: top;\n",
       "    }\n",
       "\n",
       "    .dataframe thead th {\n",
       "        text-align: right;\n",
       "    }\n",
       "</style>\n",
       "<table border=\"1\" class=\"dataframe\">\n",
       "  <thead>\n",
       "    <tr style=\"text-align: right;\">\n",
       "      <th></th>\n",
       "      <th>Date</th>\n",
       "      <th>Time</th>\n",
       "      <th>PU_Adress</th>\n",
       "      <th>Base_No</th>\n",
       "    </tr>\n",
       "  </thead>\n",
       "  <tbody>\n",
       "    <tr>\n",
       "      <th>0</th>\n",
       "      <td>7/1/2014</td>\n",
       "      <td>0:00</td>\n",
       "      <td>260 W 44 St NYC</td>\n",
       "      <td>B00256</td>\n",
       "    </tr>\n",
       "    <tr>\n",
       "      <th>1</th>\n",
       "      <td>7/1/2014</td>\n",
       "      <td>0:00</td>\n",
       "      <td>125 W 29 St Nyc</td>\n",
       "      <td>B00256</td>\n",
       "    </tr>\n",
       "  </tbody>\n",
       "</table>\n",
       "</div>"
      ],
      "text/plain": [
       "       Date  Time        PU_Adress Base_No\n",
       "0  7/1/2014  0:00  260 W 44 St NYC  B00256\n",
       "1  7/1/2014  0:00  125 W 29 St Nyc  B00256"
      ]
     },
     "execution_count": 4,
     "metadata": {},
     "output_type": "execute_result"
    }
   ],
   "source": [
    "Carmel = pd.read_csv(r'C:\\Users\\admin\\Desktop\\Practice Assignment for Python\\Uber\\Datasets\\other-Carmel_B00256.csv', encoding='ISO-8859-1')\n",
    "Carmel.head(2)"
   ]
  },
  {
   "cell_type": "code",
   "execution_count": 5,
   "id": "ddec0203-9f0a-4ae6-8f69-d6ee77dcf65c",
   "metadata": {},
   "outputs": [
    {
     "name": "stdout",
     "output_type": "stream",
     "text": [
      "In dataset Rows & Columns has :  (256519, 4)\n",
      "The duplicate Vaues is : 8966\n",
      "The Missing Values are below : \n",
      "Date         0\n",
      "Time         0\n",
      "PU_Adress    0\n",
      "Base_No      0\n",
      "dtype: int64\n"
     ]
    }
   ],
   "source": [
    "# cheking Rows and columns count\n",
    "print(f\"In dataset Rows & Columns has : \", Carmel.shape)\n",
    "\n",
    "# Checking duplicate values in dataset\n",
    "print(f\"The duplicate Vaues is :\",Carmel.duplicated().sum())\n",
    "\n",
    "# Find out missing values \n",
    "missing_data = Carmel.isnull().sum()\n",
    "print(f\"The Missing Values are below : \\n{missing_data}\")\n",
    "\n"
   ]
  },
  {
   "cell_type": "code",
   "execution_count": null,
   "id": "2f6fcdb0-3fae-4bb7-b495-941fac74ca23",
   "metadata": {},
   "outputs": [],
   "source": []
  },
  {
   "cell_type": "markdown",
   "id": "02d175d0-a728-41df-b00f-23362e848a92",
   "metadata": {},
   "source": [
    "# Data Cleaning Of Dial  Table"
   ]
  },
  {
   "cell_type": "code",
   "execution_count": 6,
   "id": "e6d1a1e4-ab86-4f79-bd9d-344ecd54be8e",
   "metadata": {},
   "outputs": [
    {
     "data": {
      "text/html": [
       "<div>\n",
       "<style scoped>\n",
       "    .dataframe tbody tr th:only-of-type {\n",
       "        vertical-align: middle;\n",
       "    }\n",
       "\n",
       "    .dataframe tbody tr th {\n",
       "        vertical-align: top;\n",
       "    }\n",
       "\n",
       "    .dataframe thead th {\n",
       "        text-align: right;\n",
       "    }\n",
       "</style>\n",
       "<table border=\"1\" class=\"dataframe\">\n",
       "  <thead>\n",
       "    <tr style=\"text-align: right;\">\n",
       "      <th></th>\n",
       "      <th>Date</th>\n",
       "      <th>Time</th>\n",
       "      <th>State</th>\n",
       "      <th>PuFrom</th>\n",
       "      <th>Address</th>\n",
       "      <th>Street</th>\n",
       "    </tr>\n",
       "  </thead>\n",
       "  <tbody>\n",
       "    <tr>\n",
       "      <th>0</th>\n",
       "      <td>2014.07.06</td>\n",
       "      <td>14:30</td>\n",
       "      <td>NY                                            ...</td>\n",
       "      <td>MANHATTAN</td>\n",
       "      <td>50</td>\n",
       "      <td>MURRAY ST</td>\n",
       "    </tr>\n",
       "    <tr>\n",
       "      <th>1</th>\n",
       "      <td>2014.07.04</td>\n",
       "      <td>7:15</td>\n",
       "      <td>NY                                            ...</td>\n",
       "      <td>MANHATTAN</td>\n",
       "      <td>143</td>\n",
       "      <td>AVENUE B</td>\n",
       "    </tr>\n",
       "  </tbody>\n",
       "</table>\n",
       "</div>"
      ],
      "text/plain": [
       "         Date   Time                                              State  \\\n",
       "0  2014.07.06  14:30  NY                                            ...   \n",
       "1  2014.07.04   7:15  NY                                            ...   \n",
       "\n",
       "      PuFrom Address                Street  \n",
       "0  MANHATTAN      50  MURRAY ST             \n",
       "1  MANHATTAN     143  AVENUE B              "
      ]
     },
     "execution_count": 6,
     "metadata": {},
     "output_type": "execute_result"
    }
   ],
   "source": [
    "Dial = pd.read_csv(r'C:\\Users\\admin\\Desktop\\Practice Assignment for Python\\Uber\\Datasets\\other-Dial7_B00887.csv')\n",
    "Dial.head(2)"
   ]
  },
  {
   "cell_type": "code",
   "execution_count": 7,
   "id": "b42feff5-63bc-4afb-82a1-943e79ed4c0b",
   "metadata": {},
   "outputs": [
    {
     "name": "stdout",
     "output_type": "stream",
     "text": [
      "In dataset Rows & Columns has :  (194992, 6)\n",
      "The duplicate Vaues is : 2246\n",
      "The Missing Values are below : \n",
      "Date           0\n",
      "Time           0\n",
      "State          0\n",
      "PuFrom     37030\n",
      "Address        0\n",
      "Street         0\n",
      "dtype: int64\n",
      "Most Frequent PuFrom :  MANHATTAN\n"
     ]
    },
    {
     "name": "stderr",
     "output_type": "stream",
     "text": [
      "C:\\Users\\admin\\AppData\\Local\\Temp\\ipykernel_7712\\3183729409.py:16: FutureWarning: A value is trying to be set on a copy of a DataFrame or Series through chained assignment using an inplace method.\n",
      "The behavior will change in pandas 3.0. This inplace method will never work because the intermediate object on which we are setting values always behaves as a copy.\n",
      "\n",
      "For example, when doing 'df[col].method(value, inplace=True)', try using 'df.method({col: value}, inplace=True)' or df[col] = df[col].method(value) instead, to perform the operation inplace on the original object.\n",
      "\n",
      "\n",
      "  Dial['PuFrom']=Dial['PuFrom'].fillna(Dial['PuFrom'].mode()[0],inplace = True)\n"
     ]
    }
   ],
   "source": [
    "# cheking Rows and columns count\n",
    "print(f\"In dataset Rows & Columns has : \", Dial.shape)\n",
    "\n",
    "# Checking duplicate values in dataset\n",
    "print(f\"The duplicate Vaues is :\",Dial.duplicated().sum())\n",
    "\n",
    "# Find out missing values \n",
    "missing_data = Dial.isnull().sum()\n",
    "print(f\"The Missing Values are below : \\n{missing_data}\")\n",
    "\n",
    "# identify which PuFrom comes maximum time for filling blank values\n",
    "Most_Frequent_PuFrom = Dial['PuFrom'].mode()[0]\n",
    "print(\"Most Frequent PuFrom : \", Most_Frequent_PuFrom)\n",
    "\n",
    "# Filling blank Values with Maximum count of PuFrom\n",
    "Dial['PuFrom']=Dial['PuFrom'].fillna(Dial['PuFrom'].mode()[0],inplace = True)\n",
    "\n",
    "\n"
   ]
  },
  {
   "cell_type": "code",
   "execution_count": null,
   "id": "2afdbcfe-806a-466c-b87d-684d126a446f",
   "metadata": {},
   "outputs": [],
   "source": []
  },
  {
   "cell_type": "markdown",
   "id": "e1b63e7f-7c07-454c-b2ca-5e691567e757",
   "metadata": {},
   "source": [
    "# Data Cleaning Of Diplo Table"
   ]
  },
  {
   "cell_type": "code",
   "execution_count": 8,
   "id": "521bd2f9-738c-4bd5-8db4-5e77f5351b2e",
   "metadata": {},
   "outputs": [
    {
     "data": {
      "text/html": [
       "<div>\n",
       "<style scoped>\n",
       "    .dataframe tbody tr th:only-of-type {\n",
       "        vertical-align: middle;\n",
       "    }\n",
       "\n",
       "    .dataframe tbody tr th {\n",
       "        vertical-align: top;\n",
       "    }\n",
       "\n",
       "    .dataframe thead th {\n",
       "        text-align: right;\n",
       "    }\n",
       "</style>\n",
       "<table border=\"1\" class=\"dataframe\">\n",
       "  <thead>\n",
       "    <tr style=\"text-align: right;\">\n",
       "      <th></th>\n",
       "      <th>Date</th>\n",
       "      <th>Time</th>\n",
       "      <th>PU_Address</th>\n",
       "    </tr>\n",
       "  </thead>\n",
       "  <tbody>\n",
       "    <tr>\n",
       "      <th>0</th>\n",
       "      <td>07/01/2014</td>\n",
       "      <td>12:00:00 AM</td>\n",
       "      <td>2396 Valentine Ave Fordham, BX</td>\n",
       "    </tr>\n",
       "    <tr>\n",
       "      <th>1</th>\n",
       "      <td>07/01/2014</td>\n",
       "      <td>12:01:00 AM</td>\n",
       "      <td>1859 Walton Ave Morris Heights, BX</td>\n",
       "    </tr>\n",
       "  </tbody>\n",
       "</table>\n",
       "</div>"
      ],
      "text/plain": [
       "         Date         Time                           PU_Address\n",
       "0  07/01/2014  12:00:00 AM       2396 Valentine Ave Fordham, BX\n",
       "1  07/01/2014  12:01:00 AM   1859 Walton Ave Morris Heights, BX"
      ]
     },
     "execution_count": 8,
     "metadata": {},
     "output_type": "execute_result"
    }
   ],
   "source": [
    "Diplo = pd.read_csv(r'C:\\Users\\admin\\Desktop\\Practice Assignment for Python\\Uber\\Datasets\\other-Diplo_B01196.csv')\n",
    "Diplo.head(2)"
   ]
  },
  {
   "cell_type": "code",
   "execution_count": 9,
   "id": "2025e27b-64f3-4b5f-8c6f-f2426deae379",
   "metadata": {},
   "outputs": [
    {
     "name": "stdout",
     "output_type": "stream",
     "text": [
      "In dataset Rows & Columns has :  (98550, 3)\n",
      "The duplicate Vaues is : 1080\n",
      "The Missing Values are below : \n",
      "Date          0\n",
      "Time          0\n",
      "PU_Address    0\n",
      "dtype: int64\n"
     ]
    }
   ],
   "source": [
    "# cheking Rows and columns count\n",
    "print(f\"In dataset Rows & Columns has : \", Diplo.shape)\n",
    "\n",
    "# Checking duplicate values in dataset\n",
    "print(f\"The duplicate Vaues is :\",Diplo.duplicated().sum())\n",
    "\n",
    "# Find out missing values \n",
    "missing_data = Diplo.isnull().sum()\n",
    "print(f\"The Missing Values are below : \\n{missing_data}\")"
   ]
  },
  {
   "cell_type": "code",
   "execution_count": null,
   "id": "671f375f-3e68-4a38-b48b-985c650c0986",
   "metadata": {},
   "outputs": [],
   "source": []
  },
  {
   "cell_type": "markdown",
   "id": "e937068d-ee1a-4037-baa0-eb2ef7d9621e",
   "metadata": {},
   "source": [
    "# Data Cleaning Of Fedral Table"
   ]
  },
  {
   "cell_type": "code",
   "execution_count": 10,
   "id": "4e3f7d79-fc6c-410f-b219-4d4e49e74f53",
   "metadata": {},
   "outputs": [
    {
     "data": {
      "text/html": [
       "<div>\n",
       "<style scoped>\n",
       "    .dataframe tbody tr th:only-of-type {\n",
       "        vertical-align: middle;\n",
       "    }\n",
       "\n",
       "    .dataframe tbody tr th {\n",
       "        vertical-align: top;\n",
       "    }\n",
       "\n",
       "    .dataframe thead th {\n",
       "        text-align: right;\n",
       "    }\n",
       "</style>\n",
       "<table border=\"1\" class=\"dataframe\">\n",
       "  <thead>\n",
       "    <tr style=\"text-align: right;\">\n",
       "      <th></th>\n",
       "      <th>Date</th>\n",
       "      <th>Time</th>\n",
       "      <th>PU_Address</th>\n",
       "      <th>DO_Address</th>\n",
       "      <th>Routing Details</th>\n",
       "      <th>PU_Address.1</th>\n",
       "      <th>Status</th>\n",
       "    </tr>\n",
       "  </thead>\n",
       "  <tbody>\n",
       "    <tr>\n",
       "      <th>0</th>\n",
       "      <td>07/01/2014</td>\n",
       "      <td>7:15 AM</td>\n",
       "      <td>Brooklyn Museum, 200 Eastern Pkwy., BK NY;</td>\n",
       "      <td>1 Brookdale Plaza, BK NY;</td>\n",
       "      <td>PU: Brooklyn Museum, 200 Eastern Pkwy., BK NY;...</td>\n",
       "      <td>Brooklyn Museum, 200 Eastern Pkwy., BK NY; DO:...</td>\n",
       "      <td>Cancelled</td>\n",
       "    </tr>\n",
       "    <tr>\n",
       "      <th>1</th>\n",
       "      <td>07/01/2014</td>\n",
       "      <td>7:30 AM</td>\n",
       "      <td>33 Robert Dr., Short Hills NJ;</td>\n",
       "      <td>John F Kennedy International Airport, vitona A...</td>\n",
       "      <td>PU: 33 Robert Dr., Short Hills NJ; DO: John F ...</td>\n",
       "      <td>33 Robert Dr., Short Hills NJ; DO: John F Kenn...</td>\n",
       "      <td>Arrived</td>\n",
       "    </tr>\n",
       "  </tbody>\n",
       "</table>\n",
       "</div>"
      ],
      "text/plain": [
       "         Date     Time                                  PU_Address  \\\n",
       "0  07/01/2014  7:15 AM  Brooklyn Museum, 200 Eastern Pkwy., BK NY;   \n",
       "1  07/01/2014  7:30 AM              33 Robert Dr., Short Hills NJ;   \n",
       "\n",
       "                                          DO_Address  \\\n",
       "0                         1 Brookdale Plaza, BK NY;    \n",
       "1  John F Kennedy International Airport, vitona A...   \n",
       "\n",
       "                                     Routing Details  \\\n",
       "0  PU: Brooklyn Museum, 200 Eastern Pkwy., BK NY;...   \n",
       "1  PU: 33 Robert Dr., Short Hills NJ; DO: John F ...   \n",
       "\n",
       "                                        PU_Address.1     Status  \n",
       "0  Brooklyn Museum, 200 Eastern Pkwy., BK NY; DO:...  Cancelled  \n",
       "1  33 Robert Dr., Short Hills NJ; DO: John F Kenn...    Arrived  "
      ]
     },
     "execution_count": 10,
     "metadata": {},
     "output_type": "execute_result"
    }
   ],
   "source": [
    "Fedral = pd.read_csv(r'C:\\Users\\admin\\Desktop\\Practice Assignment for Python\\Uber\\Datasets\\other-Federal_02216.csv')\n",
    "Fedral.head(2)"
   ]
  },
  {
   "cell_type": "code",
   "execution_count": 11,
   "id": "50ad42c5-d9d7-4ffb-8da1-8f0e91a98bd8",
   "metadata": {},
   "outputs": [
    {
     "name": "stdout",
     "output_type": "stream",
     "text": [
      "In dataset Rows & Columns has :  (276, 7)\n",
      "The duplicate Vaues is : 0\n",
      "The Missing Values are below : \n",
      "Date               0\n",
      "Time               0\n",
      "PU_Address         7\n",
      "DO_Address         9\n",
      "Routing Details    0\n",
      "PU_Address.1       0\n",
      "Status             0\n",
      "dtype: int64\n"
     ]
    }
   ],
   "source": [
    "# cheking Rows and columns count\n",
    "print(f\"In dataset Rows & Columns has : \", Fedral.shape)\n",
    "\n",
    "# Checking duplicate values in dataset\n",
    "print(f\"The duplicate Vaues is :\", Fedral.duplicated().sum())\n",
    "\n",
    "# Find out missing values \n",
    "missing_data = Fedral.isnull().sum()\n",
    "print(f\"The Missing Values are below : \\n{missing_data}\")"
   ]
  },
  {
   "cell_type": "code",
   "execution_count": null,
   "id": "e7eeee2e-cacd-41dc-96cd-34791e111a31",
   "metadata": {},
   "outputs": [],
   "source": []
  },
  {
   "cell_type": "markdown",
   "id": "e92d1376-c47f-4a43-9a79-659f9cd911c0",
   "metadata": {},
   "source": [
    "# Data Cleaning Of FHV Table"
   ]
  },
  {
   "cell_type": "code",
   "execution_count": 12,
   "id": "ea2811cb-2e12-4662-9041-25d8d3073758",
   "metadata": {},
   "outputs": [
    {
     "data": {
      "text/html": [
       "<div>\n",
       "<style scoped>\n",
       "    .dataframe tbody tr th:only-of-type {\n",
       "        vertical-align: middle;\n",
       "    }\n",
       "\n",
       "    .dataframe tbody tr th {\n",
       "        vertical-align: top;\n",
       "    }\n",
       "\n",
       "    .dataframe thead th {\n",
       "        text-align: right;\n",
       "    }\n",
       "</style>\n",
       "<table border=\"1\" class=\"dataframe\">\n",
       "  <thead>\n",
       "    <tr style=\"text-align: right;\">\n",
       "      <th></th>\n",
       "      <th>Base Number</th>\n",
       "      <th>Base Name</th>\n",
       "      <th>Pick Up Date</th>\n",
       "      <th>Number of Trips</th>\n",
       "      <th>Number of Vehicles</th>\n",
       "    </tr>\n",
       "  </thead>\n",
       "  <tbody>\n",
       "    <tr>\n",
       "      <th>0</th>\n",
       "      <td>B00013</td>\n",
       "      <td>LOVE CORP CAR INC</td>\n",
       "      <td>01/01/2015</td>\n",
       "      <td>26</td>\n",
       "      <td>17</td>\n",
       "    </tr>\n",
       "    <tr>\n",
       "      <th>1</th>\n",
       "      <td>B00014</td>\n",
       "      <td>NY ONE CORP CAR INC</td>\n",
       "      <td>01/01/2015</td>\n",
       "      <td>45</td>\n",
       "      <td>24</td>\n",
       "    </tr>\n",
       "  </tbody>\n",
       "</table>\n",
       "</div>"
      ],
      "text/plain": [
       "  Base Number            Base Name Pick Up Date Number of Trips  \\\n",
       "0      B00013    LOVE CORP CAR INC   01/01/2015             26    \n",
       "1      B00014  NY ONE CORP CAR INC   01/01/2015             45    \n",
       "\n",
       "  Number of Vehicles  \n",
       "0                17   \n",
       "1                24   "
      ]
     },
     "execution_count": 12,
     "metadata": {},
     "output_type": "execute_result"
    }
   ],
   "source": [
    "FHV = pd.read_csv(r'C:\\Users\\admin\\Desktop\\Practice Assignment for Python\\Uber\\Datasets\\other-FHV-services_jan-aug-2015.csv')\n",
    "FHV.head(2)"
   ]
  },
  {
   "cell_type": "code",
   "execution_count": 13,
   "id": "35434447-5fc2-4b97-8fb6-458e050d5126",
   "metadata": {},
   "outputs": [
    {
     "name": "stdout",
     "output_type": "stream",
     "text": [
      "In dataset Rows & Columns has :  (26181, 5)\n",
      "The duplicate Vaues is : 0\n",
      "The Missing Values are below : \n",
      "Base Number           0\n",
      "Base Name             0\n",
      "Pick Up Date          0\n",
      "Number of Trips       0\n",
      "Number of Vehicles    0\n",
      "dtype: int64\n"
     ]
    }
   ],
   "source": [
    "# cheking Rows and columns count\n",
    "print(f\"In dataset Rows & Columns has : \", FHV.shape)\n",
    "\n",
    "# Checking duplicate values in dataset\n",
    "print(f\"The duplicate Vaues is :\", FHV.duplicated().sum())\n",
    "\n",
    "# Find out missing values \n",
    "missing_data = FHV.isnull().sum()\n",
    "print(f\"The Missing Values are below : \\n{missing_data}\")"
   ]
  },
  {
   "cell_type": "code",
   "execution_count": null,
   "id": "89863369-e244-4f58-a07b-b6bcb760d83d",
   "metadata": {},
   "outputs": [],
   "source": []
  },
  {
   "cell_type": "markdown",
   "id": "ab24944b-2355-476e-b0f2-2233316cc80c",
   "metadata": {},
   "source": [
    "# Data Cleaning Of FirstClass Table"
   ]
  },
  {
   "cell_type": "code",
   "execution_count": 14,
   "id": "fc81dfd9-221b-4ebe-abe6-733000ceb500",
   "metadata": {},
   "outputs": [
    {
     "data": {
      "text/html": [
       "<div>\n",
       "<style scoped>\n",
       "    .dataframe tbody tr th:only-of-type {\n",
       "        vertical-align: middle;\n",
       "    }\n",
       "\n",
       "    .dataframe tbody tr th {\n",
       "        vertical-align: top;\n",
       "    }\n",
       "\n",
       "    .dataframe thead th {\n",
       "        text-align: right;\n",
       "    }\n",
       "</style>\n",
       "<table border=\"1\" class=\"dataframe\">\n",
       "  <thead>\n",
       "    <tr style=\"text-align: right;\">\n",
       "      <th></th>\n",
       "      <th>DATE</th>\n",
       "      <th>TIME</th>\n",
       "      <th>PICK UP ADDRESS</th>\n",
       "    </tr>\n",
       "  </thead>\n",
       "  <tbody>\n",
       "    <tr>\n",
       "      <th>0</th>\n",
       "      <td>07/01/2014</td>\n",
       "      <td>12:02:00 AM</td>\n",
       "      <td>5360 Broadway Kingsbridge, BX</td>\n",
       "    </tr>\n",
       "    <tr>\n",
       "      <th>1</th>\n",
       "      <td>07/01/2014</td>\n",
       "      <td>12:02:00 AM</td>\n",
       "      <td>546 Isham St NYC</td>\n",
       "    </tr>\n",
       "  </tbody>\n",
       "</table>\n",
       "</div>"
      ],
      "text/plain": [
       "         DATE         TIME                 PICK UP ADDRESS\n",
       "0  07/01/2014  12:02:00 AM   5360 Broadway Kingsbridge, BX\n",
       "1  07/01/2014  12:02:00 AM                546 Isham St NYC"
      ]
     },
     "execution_count": 14,
     "metadata": {},
     "output_type": "execute_result"
    }
   ],
   "source": [
    "FirstClass = pd.read_csv(r'C:\\Users\\admin\\Desktop\\Practice Assignment for Python\\Uber\\Datasets\\other-Firstclass_B01536.csv')\n",
    "FirstClass.head(2)"
   ]
  },
  {
   "cell_type": "code",
   "execution_count": 15,
   "id": "a7a83ca7-316d-4bb2-8fdf-40f28ee28481",
   "metadata": {},
   "outputs": [
    {
     "name": "stdout",
     "output_type": "stream",
     "text": [
      "In dataset Rows & Columns has :  (166769, 3)\n",
      "The duplicate Vaues is : 1246\n",
      "The Missing Values are below : \n",
      "DATE               0\n",
      "TIME               0\n",
      "PICK UP ADDRESS    0\n",
      "dtype: int64\n"
     ]
    }
   ],
   "source": [
    "# cheking Rows and columns count\n",
    "print(f\"In dataset Rows & Columns has : \", FirstClass.shape)\n",
    "\n",
    "# Checking duplicate values in dataset\n",
    "print(f\"The duplicate Vaues is :\", FirstClass.duplicated().sum())\n",
    "\n",
    "# Find out missing values \n",
    "missing_data = FirstClass.isnull().sum()\n",
    "print(f\"The Missing Values are below : \\n{missing_data}\")"
   ]
  },
  {
   "cell_type": "code",
   "execution_count": null,
   "id": "a22185c0-f6fc-44d5-9075-f9b74011b26b",
   "metadata": {},
   "outputs": [],
   "source": []
  },
  {
   "cell_type": "markdown",
   "id": "bf4bd8ba-3cf8-459b-8921-f06df1e32857",
   "metadata": {},
   "source": [
    "# Data Cleaning Of HighClass Table"
   ]
  },
  {
   "cell_type": "code",
   "execution_count": 16,
   "id": "ce9132a9-f901-417c-89a8-1785991ddef1",
   "metadata": {},
   "outputs": [
    {
     "data": {
      "text/html": [
       "<div>\n",
       "<style scoped>\n",
       "    .dataframe tbody tr th:only-of-type {\n",
       "        vertical-align: middle;\n",
       "    }\n",
       "\n",
       "    .dataframe tbody tr th {\n",
       "        vertical-align: top;\n",
       "    }\n",
       "\n",
       "    .dataframe thead th {\n",
       "        text-align: right;\n",
       "    }\n",
       "</style>\n",
       "<table border=\"1\" class=\"dataframe\">\n",
       "  <thead>\n",
       "    <tr style=\"text-align: right;\">\n",
       "      <th></th>\n",
       "      <th>DATE</th>\n",
       "      <th>TIME</th>\n",
       "      <th>PU_Address</th>\n",
       "    </tr>\n",
       "  </thead>\n",
       "  <tbody>\n",
       "    <tr>\n",
       "      <th>0</th>\n",
       "      <td>07/01/2014</td>\n",
       "      <td>12:00:00 AM</td>\n",
       "      <td>2976 Marion Ave Fordham, BX</td>\n",
       "    </tr>\n",
       "    <tr>\n",
       "      <th>1</th>\n",
       "      <td>07/01/2014</td>\n",
       "      <td>12:01:00 AM</td>\n",
       "      <td>780 Grand Concourse Cortlandt, BX</td>\n",
       "    </tr>\n",
       "  </tbody>\n",
       "</table>\n",
       "</div>"
      ],
      "text/plain": [
       "         DATE         TIME                          PU_Address\n",
       "0  07/01/2014  12:00:00 AM         2976 Marion Ave Fordham, BX\n",
       "1  07/01/2014  12:01:00 AM   780 Grand Concourse Cortlandt, BX"
      ]
     },
     "execution_count": 16,
     "metadata": {},
     "output_type": "execute_result"
    }
   ],
   "source": [
    "HighClass = pd.read_csv(r'C:\\Users\\admin\\Desktop\\Practice Assignment for Python\\Uber\\Datasets\\other-Highclass_B01717.csv')\n",
    "HighClass.head(2)"
   ]
  },
  {
   "cell_type": "code",
   "execution_count": 17,
   "id": "5bf72c23-dedc-4d6c-b0a8-d8b346fda3f5",
   "metadata": {},
   "outputs": [
    {
     "name": "stdout",
     "output_type": "stream",
     "text": [
      "In dataset Rows & Columns has :  (151925, 3)\n",
      "The duplicate Vaues is : 690\n",
      "The Missing Values are below : \n",
      "DATE          0\n",
      "TIME          0\n",
      "PU_Address    0\n",
      "dtype: int64\n"
     ]
    }
   ],
   "source": [
    "# cheking Rows and columns count\n",
    "print(f\"In dataset Rows & Columns has : \", HighClass.shape)\n",
    "\n",
    "# Checking duplicate values in dataset\n",
    "print(f\"The duplicate Vaues is :\", HighClass.duplicated().sum())\n",
    "\n",
    "# Find out missing values \n",
    "missing_data = HighClass.isnull().sum()\n",
    "print(f\"The Missing Values are below : \\n{missing_data}\")"
   ]
  },
  {
   "cell_type": "code",
   "execution_count": null,
   "id": "3ca1e8b9-57a1-40dc-a58c-ffecd607f754",
   "metadata": {},
   "outputs": [],
   "source": []
  },
  {
   "cell_type": "markdown",
   "id": "0c3d1696-3bbd-48fb-941b-d0a1fa69eab2",
   "metadata": {},
   "source": [
    "# Data Cleaning Of Lyft Table"
   ]
  },
  {
   "cell_type": "code",
   "execution_count": 18,
   "id": "ce3a60dc-c82c-4e97-b281-fe8f83163469",
   "metadata": {},
   "outputs": [
    {
     "data": {
      "text/html": [
       "<div>\n",
       "<style scoped>\n",
       "    .dataframe tbody tr th:only-of-type {\n",
       "        vertical-align: middle;\n",
       "    }\n",
       "\n",
       "    .dataframe tbody tr th {\n",
       "        vertical-align: top;\n",
       "    }\n",
       "\n",
       "    .dataframe thead th {\n",
       "        text-align: right;\n",
       "    }\n",
       "</style>\n",
       "<table border=\"1\" class=\"dataframe\">\n",
       "  <thead>\n",
       "    <tr style=\"text-align: right;\">\n",
       "      <th></th>\n",
       "      <th>time_of_trip</th>\n",
       "      <th>start_lat</th>\n",
       "      <th>start_lng</th>\n",
       "      <th>Unnamed: 3</th>\n",
       "    </tr>\n",
       "  </thead>\n",
       "  <tbody>\n",
       "    <tr>\n",
       "      <th>0</th>\n",
       "      <td>9/4/2014 9:51</td>\n",
       "      <td>40.64705</td>\n",
       "      <td>-73.77988</td>\n",
       "      <td>NaN</td>\n",
       "    </tr>\n",
       "    <tr>\n",
       "      <th>1</th>\n",
       "      <td>8/27/2014 21:13</td>\n",
       "      <td>40.74916</td>\n",
       "      <td>-73.98373</td>\n",
       "      <td>NaN</td>\n",
       "    </tr>\n",
       "  </tbody>\n",
       "</table>\n",
       "</div>"
      ],
      "text/plain": [
       "      time_of_trip  start_lat  start_lng Unnamed: 3\n",
       "0    9/4/2014 9:51   40.64705  -73.77988        NaN\n",
       "1  8/27/2014 21:13   40.74916  -73.98373        NaN"
      ]
     },
     "execution_count": 18,
     "metadata": {},
     "output_type": "execute_result"
    }
   ],
   "source": [
    "Lyft = pd.read_csv(r'C:\\Users\\admin\\Desktop\\Practice Assignment for Python\\Uber\\Datasets\\other-Lyft_B02510.csv')\n",
    "Lyft.head(2)"
   ]
  },
  {
   "cell_type": "code",
   "execution_count": 19,
   "id": "8fba7865-b385-481c-87b1-22c0db53f313",
   "metadata": {},
   "outputs": [
    {
     "name": "stdout",
     "output_type": "stream",
     "text": [
      "In dataset Rows & Columns has :  (267701, 4)\n",
      "The duplicate Vaues is : 1\n",
      "The Missing Values are below : \n",
      "time_of_trip         0\n",
      "start_lat            1\n",
      "start_lng            1\n",
      "Unnamed: 3      266503\n",
      "dtype: int64\n"
     ]
    }
   ],
   "source": [
    "# cheking Rows and columns count\n",
    "print(f\"In dataset Rows & Columns has : \", Lyft.shape)\n",
    "\n",
    "# Checking duplicate values in dataset\n",
    "print(f\"The duplicate Vaues is :\", Lyft.duplicated().sum())\n",
    "\n",
    "# Find out missing values \n",
    "missing_data = Lyft.isnull().sum()\n",
    "print(f\"The Missing Values are below : \\n{missing_data}\")"
   ]
  },
  {
   "cell_type": "code",
   "execution_count": null,
   "id": "d237b476-9451-419b-b2d8-66c52ffd0e19",
   "metadata": {},
   "outputs": [],
   "source": []
  },
  {
   "cell_type": "markdown",
   "id": "caff9588-67b4-4051-8a07-1b50c9ec841a",
   "metadata": {},
   "source": [
    "# Data Cleaning Of Prestige Table"
   ]
  },
  {
   "cell_type": "code",
   "execution_count": 20,
   "id": "a0f92e35-754b-424d-aafe-a4ca0b0e8065",
   "metadata": {},
   "outputs": [
    {
     "data": {
      "text/html": [
       "<div>\n",
       "<style scoped>\n",
       "    .dataframe tbody tr th:only-of-type {\n",
       "        vertical-align: middle;\n",
       "    }\n",
       "\n",
       "    .dataframe tbody tr th {\n",
       "        vertical-align: top;\n",
       "    }\n",
       "\n",
       "    .dataframe thead th {\n",
       "        text-align: right;\n",
       "    }\n",
       "</style>\n",
       "<table border=\"1\" class=\"dataframe\">\n",
       "  <thead>\n",
       "    <tr style=\"text-align: right;\">\n",
       "      <th></th>\n",
       "      <th>DATE</th>\n",
       "      <th>TIME</th>\n",
       "      <th>PICK UP ADDRESS</th>\n",
       "    </tr>\n",
       "  </thead>\n",
       "  <tbody>\n",
       "    <tr>\n",
       "      <th>0</th>\n",
       "      <td>07/01/2014</td>\n",
       "      <td>12:00:00 AM</td>\n",
       "      <td>2557 Marion Ave Fordham, BX</td>\n",
       "    </tr>\n",
       "    <tr>\n",
       "      <th>1</th>\n",
       "      <td>07/01/2014</td>\n",
       "      <td>12:00:00 AM</td>\n",
       "      <td>45 E Mosholu Pkwy N Williamsbridge, BX</td>\n",
       "    </tr>\n",
       "  </tbody>\n",
       "</table>\n",
       "</div>"
      ],
      "text/plain": [
       "         DATE         TIME                          PICK UP ADDRESS\n",
       "0  07/01/2014  12:00:00 AM              2557 Marion Ave Fordham, BX\n",
       "1  07/01/2014  12:00:00 AM   45 E Mosholu Pkwy N Williamsbridge, BX"
      ]
     },
     "execution_count": 20,
     "metadata": {},
     "output_type": "execute_result"
    }
   ],
   "source": [
    "Prestige = pd.read_csv(r'C:\\Users\\admin\\Desktop\\Practice Assignment for Python\\Uber\\Datasets\\other-Prestige_B01338.csv')\n",
    "Prestige.head(2)"
   ]
  },
  {
   "cell_type": "code",
   "execution_count": 21,
   "id": "f65d0462-2060-4930-8cd4-5b3a343e2a5a",
   "metadata": {},
   "outputs": [
    {
     "name": "stdout",
     "output_type": "stream",
     "text": [
      "In dataset Rows & Columns has :  (320641, 3)\n",
      "The duplicate Vaues is : 2095\n",
      "The Missing Values are below : \n",
      "DATE               0\n",
      "TIME               0\n",
      "PICK UP ADDRESS    0\n",
      "dtype: int64\n"
     ]
    }
   ],
   "source": [
    "# cheking Rows and columns count\n",
    "print(f\"In dataset Rows & Columns has : \", Prestige.shape)\n",
    "\n",
    "# Checking duplicate values in dataset\n",
    "print(f\"The duplicate Vaues is :\", Prestige.duplicated().sum())\n",
    "\n",
    "# Find out missing values \n",
    "missing_data = Prestige.isnull().sum()\n",
    "print(f\"The Missing Values are below : \\n{missing_data}\")"
   ]
  },
  {
   "cell_type": "code",
   "execution_count": null,
   "id": "61161e19-4f7b-4730-ba01-214a36e981f0",
   "metadata": {},
   "outputs": [],
   "source": []
  },
  {
   "cell_type": "markdown",
   "id": "599207a7-4cfe-42ed-9cc0-2abe6703e5b3",
   "metadata": {},
   "source": [
    "# Data Cleaning Of Skyline Table"
   ]
  },
  {
   "cell_type": "code",
   "execution_count": 22,
   "id": "7bd2983b-480d-422d-936a-3111c0559137",
   "metadata": {},
   "outputs": [
    {
     "data": {
      "text/html": [
       "<div>\n",
       "<style scoped>\n",
       "    .dataframe tbody tr th:only-of-type {\n",
       "        vertical-align: middle;\n",
       "    }\n",
       "\n",
       "    .dataframe tbody tr th {\n",
       "        vertical-align: top;\n",
       "    }\n",
       "\n",
       "    .dataframe thead th {\n",
       "        text-align: right;\n",
       "    }\n",
       "</style>\n",
       "<table border=\"1\" class=\"dataframe\">\n",
       "  <thead>\n",
       "    <tr style=\"text-align: right;\">\n",
       "      <th></th>\n",
       "      <th>Date</th>\n",
       "      <th>Time</th>\n",
       "      <th>Street_Address</th>\n",
       "      <th>City_State</th>\n",
       "      <th>Unnamed: 4</th>\n",
       "      <th>Unnamed: 5</th>\n",
       "    </tr>\n",
       "  </thead>\n",
       "  <tbody>\n",
       "    <tr>\n",
       "      <th>0</th>\n",
       "      <td>7/1/2014</td>\n",
       "      <td>20:27</td>\n",
       "      <td>622 THIRD AV</td>\n",
       "      <td>M</td>\n",
       "      <td>NaN</td>\n",
       "      <td>NaN</td>\n",
       "    </tr>\n",
       "    <tr>\n",
       "      <th>1</th>\n",
       "      <td>7/1/2014</td>\n",
       "      <td>21:04</td>\n",
       "      <td>E 77TH ST</td>\n",
       "      <td>M</td>\n",
       "      <td>NaN</td>\n",
       "      <td>NaN</td>\n",
       "    </tr>\n",
       "  </tbody>\n",
       "</table>\n",
       "</div>"
      ],
      "text/plain": [
       "       Date            Time                   Street_Address   \\\n",
       "0  7/1/2014      20:27           622 THIRD AV                   \n",
       "1  7/1/2014      21:04            E 77TH ST                     \n",
       "\n",
       "                     City_State   Unnamed: 4  Unnamed: 5  \n",
       "0       M                                NaN         NaN  \n",
       "1       M                                NaN         NaN  "
      ]
     },
     "execution_count": 22,
     "metadata": {},
     "output_type": "execute_result"
    }
   ],
   "source": [
    "Skyline = pd.read_csv(r'C:\\Users\\admin\\Desktop\\Practice Assignment for Python\\Uber\\Datasets\\other-Skyline_B00111.csv')\n",
    "Skyline.head(2)"
   ]
  },
  {
   "cell_type": "code",
   "execution_count": 23,
   "id": "95620a95-1410-40f2-81bb-a0373bcfb47b",
   "metadata": {},
   "outputs": [
    {
     "name": "stdout",
     "output_type": "stream",
     "text": [
      "In dataset Rows & Columns has :  (127696, 6)\n",
      "The duplicate Vaues is : 4853\n",
      "The Missing Values are below : \n",
      "Date                        0\n",
      "Time                        0\n",
      "    Street_Address          0\n",
      "    City_State              0\n",
      "Unnamed: 4             127696\n",
      "Unnamed: 5             127696\n",
      "dtype: int64\n"
     ]
    }
   ],
   "source": [
    "# cheking Rows and columns count\n",
    "print(f\"In dataset Rows & Columns has : \", Skyline.shape)\n",
    "\n",
    "# Checking duplicate values in dataset\n",
    "print(f\"The duplicate Vaues is :\", Skyline.duplicated().sum())\n",
    "\n",
    "# Find out missing values \n",
    "missing_data = Skyline.isnull().sum()\n",
    "print(f\"The Missing Values are below : \\n{missing_data}\")"
   ]
  },
  {
   "cell_type": "code",
   "execution_count": null,
   "id": "60cb4fc7-4ac8-4815-ace8-4803198c845b",
   "metadata": {},
   "outputs": [],
   "source": []
  },
  {
   "cell_type": "markdown",
   "id": "8ad8b205-e319-49a0-a020-a99aa16b54b3",
   "metadata": {},
   "source": [
    "# Data Cleaning Of Jan_Feb Table"
   ]
  },
  {
   "cell_type": "code",
   "execution_count": 50,
   "id": "abdbf8a6-44b0-416d-bb2e-ce4c2142aeda",
   "metadata": {},
   "outputs": [
    {
     "data": {
      "text/html": [
       "<div>\n",
       "<style scoped>\n",
       "    .dataframe tbody tr th:only-of-type {\n",
       "        vertical-align: middle;\n",
       "    }\n",
       "\n",
       "    .dataframe tbody tr th {\n",
       "        vertical-align: top;\n",
       "    }\n",
       "\n",
       "    .dataframe thead th {\n",
       "        text-align: right;\n",
       "    }\n",
       "</style>\n",
       "<table border=\"1\" class=\"dataframe\">\n",
       "  <thead>\n",
       "    <tr style=\"text-align: right;\">\n",
       "      <th></th>\n",
       "      <th>dispatching_base_number</th>\n",
       "      <th>date</th>\n",
       "      <th>active_vehicles</th>\n",
       "      <th>trips</th>\n",
       "    </tr>\n",
       "  </thead>\n",
       "  <tbody>\n",
       "    <tr>\n",
       "      <th>0</th>\n",
       "      <td>B02512</td>\n",
       "      <td>1/1/2015</td>\n",
       "      <td>190</td>\n",
       "      <td>1132</td>\n",
       "    </tr>\n",
       "    <tr>\n",
       "      <th>1</th>\n",
       "      <td>B02765</td>\n",
       "      <td>1/1/2015</td>\n",
       "      <td>225</td>\n",
       "      <td>1765</td>\n",
       "    </tr>\n",
       "    <tr>\n",
       "      <th>2</th>\n",
       "      <td>B02764</td>\n",
       "      <td>1/1/2015</td>\n",
       "      <td>3427</td>\n",
       "      <td>29421</td>\n",
       "    </tr>\n",
       "    <tr>\n",
       "      <th>3</th>\n",
       "      <td>B02682</td>\n",
       "      <td>1/1/2015</td>\n",
       "      <td>945</td>\n",
       "      <td>7679</td>\n",
       "    </tr>\n",
       "    <tr>\n",
       "      <th>4</th>\n",
       "      <td>B02617</td>\n",
       "      <td>1/1/2015</td>\n",
       "      <td>1228</td>\n",
       "      <td>9537</td>\n",
       "    </tr>\n",
       "    <tr>\n",
       "      <th>5</th>\n",
       "      <td>B02598</td>\n",
       "      <td>1/1/2015</td>\n",
       "      <td>870</td>\n",
       "      <td>6903</td>\n",
       "    </tr>\n",
       "    <tr>\n",
       "      <th>6</th>\n",
       "      <td>B02598</td>\n",
       "      <td>1/2/2015</td>\n",
       "      <td>785</td>\n",
       "      <td>4768</td>\n",
       "    </tr>\n",
       "    <tr>\n",
       "      <th>7</th>\n",
       "      <td>B02617</td>\n",
       "      <td>1/2/2015</td>\n",
       "      <td>1137</td>\n",
       "      <td>7065</td>\n",
       "    </tr>\n",
       "    <tr>\n",
       "      <th>8</th>\n",
       "      <td>B02512</td>\n",
       "      <td>1/2/2015</td>\n",
       "      <td>175</td>\n",
       "      <td>875</td>\n",
       "    </tr>\n",
       "    <tr>\n",
       "      <th>9</th>\n",
       "      <td>B02682</td>\n",
       "      <td>1/2/2015</td>\n",
       "      <td>890</td>\n",
       "      <td>5506</td>\n",
       "    </tr>\n",
       "  </tbody>\n",
       "</table>\n",
       "</div>"
      ],
      "text/plain": [
       "  dispatching_base_number      date  active_vehicles  trips\n",
       "0                  B02512  1/1/2015              190   1132\n",
       "1                  B02765  1/1/2015              225   1765\n",
       "2                  B02764  1/1/2015             3427  29421\n",
       "3                  B02682  1/1/2015              945   7679\n",
       "4                  B02617  1/1/2015             1228   9537\n",
       "5                  B02598  1/1/2015              870   6903\n",
       "6                  B02598  1/2/2015              785   4768\n",
       "7                  B02617  1/2/2015             1137   7065\n",
       "8                  B02512  1/2/2015              175    875\n",
       "9                  B02682  1/2/2015              890   5506"
      ]
     },
     "execution_count": 50,
     "metadata": {},
     "output_type": "execute_result"
    }
   ],
   "source": [
    "Jan_Feb = pd.read_csv(r'C:\\Users\\admin\\Desktop\\Practice Assignment for Python\\Uber\\Datasets\\Uber-Jan-Feb-FOIL.csv')\n",
    "Jan_Feb.head(10)"
   ]
  },
  {
   "cell_type": "code",
   "execution_count": 25,
   "id": "7bf7efd9-9053-48a9-95a9-75642645a737",
   "metadata": {},
   "outputs": [
    {
     "name": "stdout",
     "output_type": "stream",
     "text": [
      "In dataset Rows & Columns has :  (354, 4)\n",
      "The duplicate Vaues is : 0\n",
      "The Missing Values are below : \n",
      "dispatching_base_number    0\n",
      "date                       0\n",
      "active_vehicles            0\n",
      "trips                      0\n",
      "dtype: int64\n"
     ]
    }
   ],
   "source": [
    "# cheking Rows and columns count\n",
    "print(f\"In dataset Rows & Columns has : \", Jan_Feb.shape)\n",
    "\n",
    "# Checking duplicate values in dataset\n",
    "print(f\"The duplicate Vaues is :\", Jan_Feb.duplicated().sum())\n",
    "\n",
    "# Find out missing values \n",
    "missing_data = Jan_Feb.isnull().sum()\n",
    "print(f\"The Missing Values are below : \\n{missing_data}\")"
   ]
  },
  {
   "cell_type": "code",
   "execution_count": null,
   "id": "fbdb4c4f-255f-44b0-8d90-bc867cca2185",
   "metadata": {},
   "outputs": [],
   "source": []
  },
  {
   "cell_type": "markdown",
   "id": "1e35961e-133d-47a2-9112-a5e086f6bfc5",
   "metadata": {},
   "source": [
    "# Data Cleaning Of April_14 Table"
   ]
  },
  {
   "cell_type": "code",
   "execution_count": 26,
   "id": "97ed2965-065d-4e1f-93ed-a416b26e8f4a",
   "metadata": {},
   "outputs": [
    {
     "data": {
      "text/html": [
       "<div>\n",
       "<style scoped>\n",
       "    .dataframe tbody tr th:only-of-type {\n",
       "        vertical-align: middle;\n",
       "    }\n",
       "\n",
       "    .dataframe tbody tr th {\n",
       "        vertical-align: top;\n",
       "    }\n",
       "\n",
       "    .dataframe thead th {\n",
       "        text-align: right;\n",
       "    }\n",
       "</style>\n",
       "<table border=\"1\" class=\"dataframe\">\n",
       "  <thead>\n",
       "    <tr style=\"text-align: right;\">\n",
       "      <th></th>\n",
       "      <th>Date/Time</th>\n",
       "      <th>Lat</th>\n",
       "      <th>Lon</th>\n",
       "      <th>Base</th>\n",
       "    </tr>\n",
       "  </thead>\n",
       "  <tbody>\n",
       "    <tr>\n",
       "      <th>0</th>\n",
       "      <td>4/1/2014 0:11:00</td>\n",
       "      <td>40.7690</td>\n",
       "      <td>-73.9549</td>\n",
       "      <td>B02512</td>\n",
       "    </tr>\n",
       "    <tr>\n",
       "      <th>1</th>\n",
       "      <td>4/1/2014 0:17:00</td>\n",
       "      <td>40.7267</td>\n",
       "      <td>-74.0345</td>\n",
       "      <td>B02512</td>\n",
       "    </tr>\n",
       "  </tbody>\n",
       "</table>\n",
       "</div>"
      ],
      "text/plain": [
       "          Date/Time      Lat      Lon    Base\n",
       "0  4/1/2014 0:11:00  40.7690 -73.9549  B02512\n",
       "1  4/1/2014 0:17:00  40.7267 -74.0345  B02512"
      ]
     },
     "execution_count": 26,
     "metadata": {},
     "output_type": "execute_result"
    }
   ],
   "source": [
    "April_14 = pd.read_csv(r'C:\\Users\\admin\\Desktop\\Practice Assignment for Python\\Uber\\Datasets\\uber-raw-data-apr14.csv')\n",
    "April_14.head(2)"
   ]
  },
  {
   "cell_type": "code",
   "execution_count": 27,
   "id": "e1c79b78-4bd2-4f8f-9445-75e78e96d695",
   "metadata": {},
   "outputs": [
    {
     "name": "stdout",
     "output_type": "stream",
     "text": [
      "In dataset Rows & Columns has :  (564516, 4)\n",
      "The duplicate Vaues is : 7749\n",
      "The Missing Values are below : \n",
      "Date/Time    0\n",
      "Lat          0\n",
      "Lon          0\n",
      "Base         0\n",
      "dtype: int64\n"
     ]
    }
   ],
   "source": [
    "# cheking Rows and columns count\n",
    "print(f\"In dataset Rows & Columns has : \", April_14.shape)\n",
    "\n",
    "# Checking duplicate values in dataset\n",
    "print(f\"The duplicate Vaues is :\", April_14.duplicated().sum())\n",
    "\n",
    "# Find out missing values \n",
    "missing_data = April_14.isnull().sum()\n",
    "print(f\"The Missing Values are below : \\n{missing_data}\")"
   ]
  },
  {
   "cell_type": "code",
   "execution_count": null,
   "id": "ec63c68c-1389-4cc3-abc1-f90f9198b61b",
   "metadata": {},
   "outputs": [],
   "source": []
  },
  {
   "cell_type": "markdown",
   "id": "ba83b435-430f-4416-8987-7089948906ac",
   "metadata": {},
   "source": [
    "# Data Cleaning Of Aug_14 Table"
   ]
  },
  {
   "cell_type": "code",
   "execution_count": 28,
   "id": "0d5c7dee-08ad-4c2e-913d-efb16975cf05",
   "metadata": {},
   "outputs": [
    {
     "data": {
      "text/html": [
       "<div>\n",
       "<style scoped>\n",
       "    .dataframe tbody tr th:only-of-type {\n",
       "        vertical-align: middle;\n",
       "    }\n",
       "\n",
       "    .dataframe tbody tr th {\n",
       "        vertical-align: top;\n",
       "    }\n",
       "\n",
       "    .dataframe thead th {\n",
       "        text-align: right;\n",
       "    }\n",
       "</style>\n",
       "<table border=\"1\" class=\"dataframe\">\n",
       "  <thead>\n",
       "    <tr style=\"text-align: right;\">\n",
       "      <th></th>\n",
       "      <th>Date/Time</th>\n",
       "      <th>Lat</th>\n",
       "      <th>Lon</th>\n",
       "      <th>Base</th>\n",
       "    </tr>\n",
       "  </thead>\n",
       "  <tbody>\n",
       "    <tr>\n",
       "      <th>0</th>\n",
       "      <td>8/1/2014 0:03:00</td>\n",
       "      <td>40.7366</td>\n",
       "      <td>-73.9906</td>\n",
       "      <td>B02512</td>\n",
       "    </tr>\n",
       "    <tr>\n",
       "      <th>1</th>\n",
       "      <td>8/1/2014 0:09:00</td>\n",
       "      <td>40.7260</td>\n",
       "      <td>-73.9918</td>\n",
       "      <td>B02512</td>\n",
       "    </tr>\n",
       "  </tbody>\n",
       "</table>\n",
       "</div>"
      ],
      "text/plain": [
       "          Date/Time      Lat      Lon    Base\n",
       "0  8/1/2014 0:03:00  40.7366 -73.9906  B02512\n",
       "1  8/1/2014 0:09:00  40.7260 -73.9918  B02512"
      ]
     },
     "execution_count": 28,
     "metadata": {},
     "output_type": "execute_result"
    }
   ],
   "source": [
    "Aug_14 = pd.read_csv(r'C:\\Users\\admin\\Desktop\\Practice Assignment for Python\\Uber\\Datasets\\uber-raw-data-aug14.csv')\n",
    "Aug_14.head(2)"
   ]
  },
  {
   "cell_type": "code",
   "execution_count": 29,
   "id": "308ef6ff-7117-4751-9dde-b076b7131d3a",
   "metadata": {},
   "outputs": [
    {
     "name": "stdout",
     "output_type": "stream",
     "text": [
      "In dataset Rows & Columns has :  (829275, 4)\n",
      "The duplicate Vaues is : 15882\n",
      "The Missing Values are below : \n",
      "Date/Time    0\n",
      "Lat          0\n",
      "Lon          0\n",
      "Base         0\n",
      "dtype: int64\n"
     ]
    }
   ],
   "source": [
    "# cheking Rows and columns count\n",
    "print(f\"In dataset Rows & Columns has : \", Aug_14.shape)\n",
    "\n",
    "# Checking duplicate values in dataset\n",
    "print(f\"The duplicate Vaues is :\", Aug_14.duplicated().sum())\n",
    "\n",
    "# Find out missing values \n",
    "missing_data = Aug_14.isnull().sum()\n",
    "print(f\"The Missing Values are below : \\n{missing_data}\")"
   ]
  },
  {
   "cell_type": "code",
   "execution_count": null,
   "id": "4a281d3e-8278-4683-b542-89e8450cec54",
   "metadata": {},
   "outputs": [],
   "source": []
  },
  {
   "cell_type": "markdown",
   "id": "8c7e24e6-6f7d-4f61-a892-3b42c562bb6d",
   "metadata": {},
   "source": [
    "# Data Cleaning Of Jan_June_15 Table"
   ]
  },
  {
   "cell_type": "code",
   "execution_count": 30,
   "id": "c9ac5fd0-fcad-4c60-8ebc-583c140489f9",
   "metadata": {},
   "outputs": [
    {
     "data": {
      "text/html": [
       "<div>\n",
       "<style scoped>\n",
       "    .dataframe tbody tr th:only-of-type {\n",
       "        vertical-align: middle;\n",
       "    }\n",
       "\n",
       "    .dataframe tbody tr th {\n",
       "        vertical-align: top;\n",
       "    }\n",
       "\n",
       "    .dataframe thead th {\n",
       "        text-align: right;\n",
       "    }\n",
       "</style>\n",
       "<table border=\"1\" class=\"dataframe\">\n",
       "  <thead>\n",
       "    <tr style=\"text-align: right;\">\n",
       "      <th></th>\n",
       "      <th>Dispatching_base_num</th>\n",
       "      <th>Pickup_date</th>\n",
       "      <th>Affiliated_base_num</th>\n",
       "      <th>locationID</th>\n",
       "    </tr>\n",
       "  </thead>\n",
       "  <tbody>\n",
       "    <tr>\n",
       "      <th>0</th>\n",
       "      <td>B02617</td>\n",
       "      <td>17/05/2015 09:47</td>\n",
       "      <td>B02617</td>\n",
       "      <td>141</td>\n",
       "    </tr>\n",
       "    <tr>\n",
       "      <th>1</th>\n",
       "      <td>B02617</td>\n",
       "      <td>17/05/2015 09:47</td>\n",
       "      <td>B02617</td>\n",
       "      <td>65</td>\n",
       "    </tr>\n",
       "  </tbody>\n",
       "</table>\n",
       "</div>"
      ],
      "text/plain": [
       "  Dispatching_base_num       Pickup_date Affiliated_base_num  locationID\n",
       "0               B02617  17/05/2015 09:47              B02617         141\n",
       "1               B02617  17/05/2015 09:47              B02617          65"
      ]
     },
     "execution_count": 30,
     "metadata": {},
     "output_type": "execute_result"
    }
   ],
   "source": [
    "Jan_June_15 = pd.read_csv(r'C:\\Users\\admin\\Desktop\\Practice Assignment for Python\\Uber\\Datasets\\uber-raw-data-janjune-15.csv')\n",
    "Jan_June_15.head(2)"
   ]
  },
  {
   "cell_type": "code",
   "execution_count": 31,
   "id": "b1ff011c-d60e-474d-93fc-d34f316fca1b",
   "metadata": {},
   "outputs": [
    {
     "name": "stdout",
     "output_type": "stream",
     "text": [
      "In dataset Rows & Columns has :  (1048575, 4)\n",
      "The duplicate Vaues is : 84166\n",
      "The Missing Values are below : \n",
      "Dispatching_base_num        0\n",
      "Pickup_date                 0\n",
      "Affiliated_base_num     11983\n",
      "locationID                  0\n",
      "dtype: int64\n",
      "Affiliated_base_num :  B02764\n"
     ]
    },
    {
     "name": "stderr",
     "output_type": "stream",
     "text": [
      "C:\\Users\\admin\\AppData\\Local\\Temp\\ipykernel_7712\\3020854141.py:16: FutureWarning: A value is trying to be set on a copy of a DataFrame or Series through chained assignment using an inplace method.\n",
      "The behavior will change in pandas 3.0. This inplace method will never work because the intermediate object on which we are setting values always behaves as a copy.\n",
      "\n",
      "For example, when doing 'df[col].method(value, inplace=True)', try using 'df.method({col: value}, inplace=True)' or df[col] = df[col].method(value) instead, to perform the operation inplace on the original object.\n",
      "\n",
      "\n",
      "  Jan_June_15['Affiliated_base_num']=Jan_June_15['Affiliated_base_num'].fillna(Jan_June_15['Affiliated_base_num'].mode()[0], inplace=True)\n"
     ]
    }
   ],
   "source": [
    "# cheking Rows and columns count\n",
    "print(f\"In dataset Rows & Columns has : \",Jan_June_15.shape)\n",
    "\n",
    "# Checking duplicate values in dataset\n",
    "print(f\"The duplicate Vaues is :\", Jan_June_15.duplicated().sum())\n",
    "\n",
    "# Find out missing values \n",
    "missing_data = Jan_June_15.isnull().sum()\n",
    "print(f\"The Missing Values are below : \\n{missing_data}\")\n",
    "\n",
    "# identify which Affiliated_base_num  comes maximum time for filling blank values\n",
    "Most_Frequent_Affiliated_base_num = Jan_June_15['Affiliated_base_num'].mode()[0]\n",
    "print(\"Affiliated_base_num : \", Most_Frequent_Affiliated_base_num)\n",
    "\n",
    "# Filling blank Values with Maximum count of Affiliated_base_num \n",
    "Jan_June_15['Affiliated_base_num']=Jan_June_15['Affiliated_base_num'].fillna(Jan_June_15['Affiliated_base_num'].mode()[0], inplace=True)\n"
   ]
  },
  {
   "cell_type": "code",
   "execution_count": null,
   "id": "5cac309b-df83-48c3-bf28-e1a8b6de430d",
   "metadata": {},
   "outputs": [],
   "source": []
  },
  {
   "cell_type": "markdown",
   "id": "c48e50cf-e247-4f88-b8c4-1f12bf79723e",
   "metadata": {},
   "source": [
    "# Data Cleaning Of Jan_June_Sample Table"
   ]
  },
  {
   "cell_type": "code",
   "execution_count": 32,
   "id": "d27d1935-ec8a-4a84-b48f-d6c9b7054d9a",
   "metadata": {},
   "outputs": [
    {
     "data": {
      "text/html": [
       "<div>\n",
       "<style scoped>\n",
       "    .dataframe tbody tr th:only-of-type {\n",
       "        vertical-align: middle;\n",
       "    }\n",
       "\n",
       "    .dataframe tbody tr th {\n",
       "        vertical-align: top;\n",
       "    }\n",
       "\n",
       "    .dataframe thead th {\n",
       "        text-align: right;\n",
       "    }\n",
       "</style>\n",
       "<table border=\"1\" class=\"dataframe\">\n",
       "  <thead>\n",
       "    <tr style=\"text-align: right;\">\n",
       "      <th></th>\n",
       "      <th>Dispatching_base_num</th>\n",
       "      <th>Pickup_date</th>\n",
       "      <th>Affiliated_base_num</th>\n",
       "      <th>locationID</th>\n",
       "    </tr>\n",
       "  </thead>\n",
       "  <tbody>\n",
       "    <tr>\n",
       "      <th>0</th>\n",
       "      <td>B02617</td>\n",
       "      <td>2015-05-02 21:43:00</td>\n",
       "      <td>B02764</td>\n",
       "      <td>237</td>\n",
       "    </tr>\n",
       "    <tr>\n",
       "      <th>1</th>\n",
       "      <td>B02682</td>\n",
       "      <td>2015-01-20 19:52:59</td>\n",
       "      <td>B02682</td>\n",
       "      <td>231</td>\n",
       "    </tr>\n",
       "  </tbody>\n",
       "</table>\n",
       "</div>"
      ],
      "text/plain": [
       "  Dispatching_base_num          Pickup_date Affiliated_base_num  locationID\n",
       "0               B02617  2015-05-02 21:43:00              B02764         237\n",
       "1               B02682  2015-01-20 19:52:59              B02682         231"
      ]
     },
     "execution_count": 32,
     "metadata": {},
     "output_type": "execute_result"
    }
   ],
   "source": [
    "Jan_June_Sample = pd.read_csv(r'C:\\Users\\admin\\Desktop\\Practice Assignment for Python\\Uber\\Datasets\\uber-raw-data-janjune-15_sample.csv')\n",
    "Jan_June_Sample.head(2)"
   ]
  },
  {
   "cell_type": "code",
   "execution_count": 33,
   "id": "54e98a2a-787b-4d8d-b470-3bbb4f7ed233",
   "metadata": {},
   "outputs": [
    {
     "name": "stdout",
     "output_type": "stream",
     "text": [
      "In dataset Rows & Columns has :  (100000, 4)\n",
      "The duplicate Vaues is : 54\n",
      "The Missing Values are below : \n",
      "Dispatching_base_num       0\n",
      "Pickup_date                0\n",
      "Affiliated_base_num     1118\n",
      "locationID                 0\n",
      "dtype: int64\n",
      "Affiliated_base_num :  B02764\n"
     ]
    }
   ],
   "source": [
    "# cheking Rows and columns count\n",
    "print(f\"In dataset Rows & Columns has : \",Jan_June_Sample.shape)\n",
    "\n",
    "# Checking duplicate values in dataset\n",
    "print(f\"The duplicate Vaues is :\", Jan_June_Sample.duplicated().sum())\n",
    "\n",
    "# Find out missing values \n",
    "missing_data = Jan_June_Sample.isnull().sum()\n",
    "print(f\"The Missing Values are below : \\n{missing_data}\")\n",
    "\n",
    "# identify which Affiliated_base_num  comes maximum time for filling blank values\n",
    "Most_Frequent_Affiliated_base_num = Jan_June_Sample['Affiliated_base_num'].mode()[0]\n",
    "print(\"Affiliated_base_num : \", Most_Frequent_Affiliated_base_num)\n",
    "\n",
    "# Filling blank Values with Maximum count of Affiliated_base_num \n",
    "Jan_June_Sample['Affiliated_base_num'] = Jan_June_Sample['Affiliated_base_num'].fillna(Jan_June_Sample['Affiliated_base_num'].mode()[0])\n"
   ]
  },
  {
   "cell_type": "code",
   "execution_count": null,
   "id": "0f7f06fc-465b-4c8d-8099-b94359539986",
   "metadata": {},
   "outputs": [],
   "source": []
  },
  {
   "cell_type": "markdown",
   "id": "6211061f-58d6-464c-8ee2-796c653ef745",
   "metadata": {},
   "source": [
    "# Data Cleaning Of July_14 Table"
   ]
  },
  {
   "cell_type": "code",
   "execution_count": 34,
   "id": "7f226d28-7862-492c-b6d7-d2abd92fefeb",
   "metadata": {},
   "outputs": [
    {
     "data": {
      "text/html": [
       "<div>\n",
       "<style scoped>\n",
       "    .dataframe tbody tr th:only-of-type {\n",
       "        vertical-align: middle;\n",
       "    }\n",
       "\n",
       "    .dataframe tbody tr th {\n",
       "        vertical-align: top;\n",
       "    }\n",
       "\n",
       "    .dataframe thead th {\n",
       "        text-align: right;\n",
       "    }\n",
       "</style>\n",
       "<table border=\"1\" class=\"dataframe\">\n",
       "  <thead>\n",
       "    <tr style=\"text-align: right;\">\n",
       "      <th></th>\n",
       "      <th>Date/Time</th>\n",
       "      <th>Lat</th>\n",
       "      <th>Lon</th>\n",
       "      <th>Base</th>\n",
       "    </tr>\n",
       "  </thead>\n",
       "  <tbody>\n",
       "    <tr>\n",
       "      <th>0</th>\n",
       "      <td>7/1/2014 0:03:00</td>\n",
       "      <td>40.7586</td>\n",
       "      <td>-73.9706</td>\n",
       "      <td>B02512</td>\n",
       "    </tr>\n",
       "    <tr>\n",
       "      <th>1</th>\n",
       "      <td>7/1/2014 0:05:00</td>\n",
       "      <td>40.7605</td>\n",
       "      <td>-73.9994</td>\n",
       "      <td>B02512</td>\n",
       "    </tr>\n",
       "  </tbody>\n",
       "</table>\n",
       "</div>"
      ],
      "text/plain": [
       "          Date/Time      Lat      Lon    Base\n",
       "0  7/1/2014 0:03:00  40.7586 -73.9706  B02512\n",
       "1  7/1/2014 0:05:00  40.7605 -73.9994  B02512"
      ]
     },
     "execution_count": 34,
     "metadata": {},
     "output_type": "execute_result"
    }
   ],
   "source": [
    "July_14 =pd.read_csv(r'C:\\Users\\admin\\Desktop\\Practice Assignment for Python\\Uber\\Datasets\\uber-raw-data-jul14.csv')\n",
    "July_14.head(2)"
   ]
  },
  {
   "cell_type": "code",
   "execution_count": 35,
   "id": "1049f587-4601-4a2a-90e0-a1946002cef9",
   "metadata": {},
   "outputs": [
    {
     "name": "stdout",
     "output_type": "stream",
     "text": [
      "In dataset Rows & Columns has :  (796121, 4)\n",
      "The duplicate Vaues is : 14152\n",
      "The Missing Values are below : \n",
      "Date/Time    0\n",
      "Lat          0\n",
      "Lon          0\n",
      "Base         0\n",
      "dtype: int64\n"
     ]
    }
   ],
   "source": [
    "# cheking Rows and columns count\n",
    "print(f\"In dataset Rows & Columns has : \",July_14.shape)\n",
    "\n",
    "# Checking duplicate values in dataset\n",
    "print(f\"The duplicate Vaues is :\", July_14.duplicated().sum())\n",
    "\n",
    "# Find out missing values \n",
    "missing_data = July_14.isnull().sum()\n",
    "print(f\"The Missing Values are below : \\n{missing_data}\")"
   ]
  },
  {
   "cell_type": "code",
   "execution_count": null,
   "id": "1aa32bcb-65b1-4b9b-b01c-69dd0f435956",
   "metadata": {},
   "outputs": [],
   "source": []
  },
  {
   "cell_type": "markdown",
   "id": "da3a5a31-0fac-42db-99da-eadad4894a62",
   "metadata": {},
   "source": [
    "# Data Cleaning Of Jun_14 Table"
   ]
  },
  {
   "cell_type": "code",
   "execution_count": 36,
   "id": "1aa3c107-7ed6-4360-973f-715b8308b4fb",
   "metadata": {},
   "outputs": [
    {
     "data": {
      "text/html": [
       "<div>\n",
       "<style scoped>\n",
       "    .dataframe tbody tr th:only-of-type {\n",
       "        vertical-align: middle;\n",
       "    }\n",
       "\n",
       "    .dataframe tbody tr th {\n",
       "        vertical-align: top;\n",
       "    }\n",
       "\n",
       "    .dataframe thead th {\n",
       "        text-align: right;\n",
       "    }\n",
       "</style>\n",
       "<table border=\"1\" class=\"dataframe\">\n",
       "  <thead>\n",
       "    <tr style=\"text-align: right;\">\n",
       "      <th></th>\n",
       "      <th>Date/Time</th>\n",
       "      <th>Lat</th>\n",
       "      <th>Lon</th>\n",
       "      <th>Base</th>\n",
       "    </tr>\n",
       "  </thead>\n",
       "  <tbody>\n",
       "    <tr>\n",
       "      <th>0</th>\n",
       "      <td>6/1/2014 0:00:00</td>\n",
       "      <td>40.7293</td>\n",
       "      <td>-73.9920</td>\n",
       "      <td>B02512</td>\n",
       "    </tr>\n",
       "    <tr>\n",
       "      <th>1</th>\n",
       "      <td>6/1/2014 0:01:00</td>\n",
       "      <td>40.7131</td>\n",
       "      <td>-74.0097</td>\n",
       "      <td>B02512</td>\n",
       "    </tr>\n",
       "  </tbody>\n",
       "</table>\n",
       "</div>"
      ],
      "text/plain": [
       "          Date/Time      Lat      Lon    Base\n",
       "0  6/1/2014 0:00:00  40.7293 -73.9920  B02512\n",
       "1  6/1/2014 0:01:00  40.7131 -74.0097  B02512"
      ]
     },
     "execution_count": 36,
     "metadata": {},
     "output_type": "execute_result"
    }
   ],
   "source": [
    "Jun_14 = pd.read_csv(r'C:\\Users\\admin\\Desktop\\Practice Assignment for Python\\Uber\\Datasets\\uber-raw-data-jun14.csv')\n",
    "Jun_14.head(2)"
   ]
  },
  {
   "cell_type": "code",
   "execution_count": 37,
   "id": "dfc4019d-9a82-4561-a64b-476f4c2443b6",
   "metadata": {},
   "outputs": [
    {
     "name": "stdout",
     "output_type": "stream",
     "text": [
      "In dataset Rows & Columns has :  (663844, 4)\n",
      "The duplicate Vaues is : 10686\n",
      "The Missing Values are below : \n",
      "Date/Time    0\n",
      "Lat          0\n",
      "Lon          0\n",
      "Base         0\n",
      "dtype: int64\n"
     ]
    }
   ],
   "source": [
    "# cheking Rows and columns count\n",
    "print(f\"In dataset Rows & Columns has : \",Jun_14.shape)\n",
    "\n",
    "# Checking duplicate values in dataset\n",
    "print(f\"The duplicate Vaues is :\", Jun_14.duplicated().sum())\n",
    "\n",
    "# Find out missing values \n",
    "missing_data = Jun_14.isnull().sum()\n",
    "print(f\"The Missing Values are below : \\n{missing_data}\")"
   ]
  },
  {
   "cell_type": "code",
   "execution_count": null,
   "id": "11bcc925-5852-4c0b-99a3-d358ee972e52",
   "metadata": {},
   "outputs": [],
   "source": []
  },
  {
   "cell_type": "markdown",
   "id": "0639e35f-1508-439d-9604-5303e28cdee3",
   "metadata": {},
   "source": [
    "# Data Cleaning Of May_14 Table"
   ]
  },
  {
   "cell_type": "code",
   "execution_count": 38,
   "id": "949d53b5-c909-4eb0-919f-cc86aaabe86b",
   "metadata": {},
   "outputs": [
    {
     "data": {
      "text/html": [
       "<div>\n",
       "<style scoped>\n",
       "    .dataframe tbody tr th:only-of-type {\n",
       "        vertical-align: middle;\n",
       "    }\n",
       "\n",
       "    .dataframe tbody tr th {\n",
       "        vertical-align: top;\n",
       "    }\n",
       "\n",
       "    .dataframe thead th {\n",
       "        text-align: right;\n",
       "    }\n",
       "</style>\n",
       "<table border=\"1\" class=\"dataframe\">\n",
       "  <thead>\n",
       "    <tr style=\"text-align: right;\">\n",
       "      <th></th>\n",
       "      <th>Date/Time</th>\n",
       "      <th>Lat</th>\n",
       "      <th>Lon</th>\n",
       "      <th>Base</th>\n",
       "    </tr>\n",
       "  </thead>\n",
       "  <tbody>\n",
       "    <tr>\n",
       "      <th>0</th>\n",
       "      <td>5/1/2014 0:02:00</td>\n",
       "      <td>40.7521</td>\n",
       "      <td>-73.9914</td>\n",
       "      <td>B02512</td>\n",
       "    </tr>\n",
       "    <tr>\n",
       "      <th>1</th>\n",
       "      <td>5/1/2014 0:06:00</td>\n",
       "      <td>40.6965</td>\n",
       "      <td>-73.9715</td>\n",
       "      <td>B02512</td>\n",
       "    </tr>\n",
       "  </tbody>\n",
       "</table>\n",
       "</div>"
      ],
      "text/plain": [
       "          Date/Time      Lat      Lon    Base\n",
       "0  5/1/2014 0:02:00  40.7521 -73.9914  B02512\n",
       "1  5/1/2014 0:06:00  40.6965 -73.9715  B02512"
      ]
     },
     "execution_count": 38,
     "metadata": {},
     "output_type": "execute_result"
    }
   ],
   "source": [
    "May_14 = pd.read_csv(r'C:\\Users\\admin\\Desktop\\Practice Assignment for Python\\Uber\\Datasets\\uber-raw-data-may14.csv')\n",
    "May_14.head(2)"
   ]
  },
  {
   "cell_type": "code",
   "execution_count": 39,
   "id": "2af41edd-4013-4e63-9516-b26a1d03a4b4",
   "metadata": {},
   "outputs": [
    {
     "name": "stdout",
     "output_type": "stream",
     "text": [
      "In dataset Rows & Columns has :  (652435, 4)\n",
      "The duplicate Vaues is : 10075\n",
      "The Missing Values are below : \n",
      "Date/Time    0\n",
      "Lat          0\n",
      "Lon          0\n",
      "Base         0\n",
      "dtype: int64\n"
     ]
    }
   ],
   "source": [
    "# cheking Rows and columns count\n",
    "print(f\"In dataset Rows & Columns has : \",May_14.shape)\n",
    "\n",
    "# Checking duplicate values in dataset\n",
    "print(f\"The duplicate Vaues is :\", May_14.duplicated().sum())\n",
    "\n",
    "# Find out missing values \n",
    "missing_data = May_14.isnull().sum()\n",
    "print(f\"The Missing Values are below : \\n{missing_data}\")"
   ]
  },
  {
   "cell_type": "code",
   "execution_count": null,
   "id": "90a6e6c9-351e-45ce-9d30-663393d2827d",
   "metadata": {},
   "outputs": [],
   "source": []
  },
  {
   "cell_type": "markdown",
   "id": "fd4c3526-3fbc-4d0b-a339-7191e8649415",
   "metadata": {},
   "source": [
    "# Data Cleaning Of Sep_14 Table"
   ]
  },
  {
   "cell_type": "code",
   "execution_count": 40,
   "id": "dd587401-d125-4c90-add2-9848d1a56783",
   "metadata": {},
   "outputs": [
    {
     "data": {
      "text/html": [
       "<div>\n",
       "<style scoped>\n",
       "    .dataframe tbody tr th:only-of-type {\n",
       "        vertical-align: middle;\n",
       "    }\n",
       "\n",
       "    .dataframe tbody tr th {\n",
       "        vertical-align: top;\n",
       "    }\n",
       "\n",
       "    .dataframe thead th {\n",
       "        text-align: right;\n",
       "    }\n",
       "</style>\n",
       "<table border=\"1\" class=\"dataframe\">\n",
       "  <thead>\n",
       "    <tr style=\"text-align: right;\">\n",
       "      <th></th>\n",
       "      <th>Date/Time</th>\n",
       "      <th>Lat</th>\n",
       "      <th>Lon</th>\n",
       "      <th>Base</th>\n",
       "    </tr>\n",
       "  </thead>\n",
       "  <tbody>\n",
       "    <tr>\n",
       "      <th>0</th>\n",
       "      <td>9/1/2014 0:01:00</td>\n",
       "      <td>40.2201</td>\n",
       "      <td>-74.0021</td>\n",
       "      <td>B02512</td>\n",
       "    </tr>\n",
       "    <tr>\n",
       "      <th>1</th>\n",
       "      <td>9/1/2014 0:01:00</td>\n",
       "      <td>40.7500</td>\n",
       "      <td>-74.0027</td>\n",
       "      <td>B02512</td>\n",
       "    </tr>\n",
       "  </tbody>\n",
       "</table>\n",
       "</div>"
      ],
      "text/plain": [
       "          Date/Time      Lat      Lon    Base\n",
       "0  9/1/2014 0:01:00  40.2201 -74.0021  B02512\n",
       "1  9/1/2014 0:01:00  40.7500 -74.0027  B02512"
      ]
     },
     "execution_count": 40,
     "metadata": {},
     "output_type": "execute_result"
    }
   ],
   "source": [
    "Sep_14 = pd.read_csv(r'C:\\Users\\admin\\Desktop\\Practice Assignment for Python\\Uber\\Datasets\\uber-raw-data-sep14.csv')\n",
    "Sep_14.head(2)"
   ]
  },
  {
   "cell_type": "code",
   "execution_count": 41,
   "id": "e1b8a932-6404-4360-8880-c938fc938b21",
   "metadata": {},
   "outputs": [
    {
     "name": "stdout",
     "output_type": "stream",
     "text": [
      "In dataset Rows & Columns has :  (1028136, 4)\n",
      "The duplicate Vaues is : 24037\n",
      "The Missing Values are below : \n",
      "Date/Time    0\n",
      "Lat          0\n",
      "Lon          0\n",
      "Base         0\n",
      "dtype: int64\n"
     ]
    }
   ],
   "source": [
    "# cheking Rows and columns count\n",
    "print(f\"In dataset Rows & Columns has : \",Sep_14.shape)\n",
    "\n",
    "# Checking duplicate values in dataset\n",
    "print(f\"The duplicate Vaues is :\", Sep_14.duplicated().sum())\n",
    "\n",
    "# Find out missing values \n",
    "missing_data = Sep_14.isnull().sum()\n",
    "print(f\"The Missing Values are below : \\n{missing_data}\")"
   ]
  },
  {
   "cell_type": "markdown",
   "id": "2c74969c-c3c1-4305-8093-06699118edf3",
   "metadata": {},
   "source": [
    "# Analyse which month have max uber pickups ,analyse hourly rush in newyork"
   ]
  },
  {
   "cell_type": "code",
   "execution_count": 42,
   "id": "68223771-ca06-445e-97c7-33cb83746627",
   "metadata": {},
   "outputs": [
    {
     "name": "stderr",
     "output_type": "stream",
     "text": [
      "C:\\Users\\admin\\AppData\\Local\\Temp\\ipykernel_7712\\1094331628.py:9: UserWarning: Parsing dates in %d/%m/%Y %H:%M format when dayfirst=False (the default) was specified. Pass `dayfirst=True` or specify a format to silence this warning.\n",
      "  Merge_table['Pickup_date'] = pd.to_datetime(Merge_table['Pickup_date'], errors='coerce')\n"
     ]
    },
    {
     "data": {
      "image/png": "[encoded data removed]",
      "text/plain": [
       "<Figure size 1000x500 with 1 Axes>"
      ]
     },
     "metadata": {},
     "output_type": "display_data"
    }
   ],
   "source": [
    "import pandas as pd\n",
    "import matplotlib.pyplot as plt\n",
    "import calendar\n",
    "\n",
    "# Combine the two tables\n",
    "Merge_table = pd.concat([Jan_June_15,Jan_June_Sample])\n",
    "\n",
    "# Convert Pickup_date to datetime\n",
    "Merge_table['Pickup_date'] = pd.to_datetime(Merge_table['Pickup_date'], errors='coerce')\n",
    "\n",
    "# Extract month number and name\n",
    "Merge_table['month'] = Merge_table['Pickup_date'].dt.month\n",
    "Merge_table['month_name'] = Merge_table['month'].dropna().astype(int).map(lambda x: calendar.month_name[x])\n",
    "\n",
    "# Monthly pickup counts\n",
    "Monthly_counts = Merge_table['month_name'].value_counts().sort_index()\n",
    "\n",
    "# Plot monthly pickups\n",
    "plt.figure(figsize=(10,5))\n",
    "Monthly_counts.plot(kind='bar', color='skyblue')\n",
    "plt.title('Monthly Uber Pickups')\n",
    "plt.xlabel('Month')\n",
    "plt.ylabel('Pickup Count')\n",
    "plt.xticks(rotation=45)\n",
    "plt.grid(axis='y')\n",
    "for index, value in enumerate(Monthly_counts):\n",
    "    plt.text(index, value, str(value), ha='center', va='bottom')\n",
    "plt.tight_layout()\n",
    "plt.show()\n"
   ]
  },
  {
   "cell_type": "code",
   "execution_count": 49,
   "id": "e547af6d-59ce-4b89-8212-efa38ca17706",
   "metadata": {},
   "outputs": [
    {
     "name": "stderr",
     "output_type": "stream",
     "text": [
      "C:\\Users\\admin\\AppData\\Local\\Temp\\ipykernel_7712\\4098037649.py:14: SettingWithCopyWarning: \n",
      "A value is trying to be set on a copy of a slice from a DataFrame.\n",
      "Try using .loc[row_indexer,col_indexer] = value instead\n",
      "\n",
      "See the caveats in the documentation: https://pandas.pydata.org/pandas-docs/stable/user_guide/indexing.html#returning-a-view-versus-a-copy\n",
      "  ny_df['hour'] = ny_df['Datetime'].dt.hour\n"
     ]
    },
    {
     "data": {
      "image/png": "[encoded data removed]",
      "text/plain": [
       "<Figure size 1000x500 with 1 Axes>"
      ]
     },
     "metadata": {},
     "output_type": "display_data"
    }
   ],
   "source": [
    "import pandas as pd\n",
    "import matplotlib.pyplot as plt\n",
    "\n",
    "# Step 1: Clean column names\n",
    "Skyline.columns = Skyline.columns.str.strip()\n",
    "\n",
    "# Step 2: Combine Date and Time\n",
    "Skyline['Datetime'] = pd.to_datetime(Skyline['Date'] + ' ' + Skyline['Time'], errors='coerce')\n",
    "\n",
    "# Step 3: Filter only New York data\n",
    "ny_df = Skyline[Skyline['City_State'].str.contains('New York', case=False, na=False)]\n",
    "\n",
    "# Step 4: Extract hour\n",
    "ny_df['hour'] = ny_df['Datetime'].dt.hour\n",
    "\n",
    "# Step 5: Count pickups per hour\n",
    "hourly_counts = ny_df['hour'].value_counts().sort_index()\n",
    "\n",
    "# Step 6: Plot\n",
    "plt.figure(figsize=(10, 5))\n",
    "bars = plt.bar(hourly_counts.index, hourly_counts.values, color='skyblue')\n",
    "plt.title('Hourly Uber Pickups in New York', fontsize=14)\n",
    "plt.xlabel('Hour of Day', fontsize=12)\n",
    "plt.ylabel('Pickup Count', fontsize=12)\n",
    "plt.xticks(range(0, 24))\n",
    "plt.grid(axis='y', linestyle='--', alpha=0.7)\n",
    "\n",
    "# Add labels\n",
    "for bar in bars:\n",
    "    height = bar.get_height()\n",
    "    plt.text(bar.get_x() + bar.get_width()/2, height + 5, str(int(height)), ha='center', fontsize=10)\n",
    "\n",
    "plt.tight_layout()\n",
    "plt.show()\n"
   ]
  },
  {
   "cell_type": "markdown",
   "id": "ed7b0daf-2769-4903-8d3f-4eeecaeb99a4",
   "metadata": {},
   "source": [
    "# From the uber data set analyse most active uber base number"
   ]
  },
  {
   "cell_type": "code",
   "execution_count": 52,
   "id": "a286ff8a-7987-44e4-b778-d0297568b684",
   "metadata": {},
   "outputs": [
    {
     "name": "stderr",
     "output_type": "stream",
     "text": [
      "C:\\Users\\admin\\AppData\\Local\\Temp\\ipykernel_7712\\672278351.py:11: FutureWarning: \n",
      "\n",
      "Passing `palette` without assigning `hue` is deprecated and will be removed in v0.14.0. Assign the `x` variable to `hue` and set `legend=False` for the same effect.\n",
      "\n",
      "  barplot = sns.barplot(x='dispatching_base_number', y='trips', data=base_trips, palette='viridis')\n"
     ]
    },
    {
     "data": {
      "image/png": "[encoded data removed]",
      "text/plain": [
       "<Figure size 1000x500 with 1 Axes>"
      ]
     },
     "metadata": {},
     "output_type": "display_data"
    }
   ],
   "source": [
    "import pandas as pd\n",
    "import matplotlib.pyplot as plt\n",
    "import seaborn as sns\n",
    "\n",
    "# Group and sum trips per base\n",
    "base_trips = Jan_Feb.groupby('dispatching_base_number')['trips'].sum().reset_index()\n",
    "base_trips = base_trips.sort_values(by='trips', ascending=False)\n",
    "\n",
    "# Plot\n",
    "plt.figure(figsize=(10, 5))\n",
    "barplot = sns.barplot(x='dispatching_base_number', y='trips', data=base_trips, palette='viridis')\n",
    "\n",
    "# Add labels on top of bars\n",
    "for p in barplot.patches:\n",
    "    barplot.annotate(format(p.get_height(), ','),\n",
    "                     (p.get_x() + p.get_width() / 2., p.get_height()),\n",
    "                     ha='center', va='bottom', fontsize=9)\n",
    "\n",
    "# Titles and labels\n",
    "plt.xlabel('Dispatching Base Number')\n",
    "plt.ylabel('Total Trips')\n",
    "plt.title('Most Active Uber Base Numbers by Total Trips')\n",
    "plt.xticks(rotation=45)\n",
    "plt.tight_layout()\n",
    "plt.show()\n"
   ]
  },
  {
   "cell_type": "markdown",
   "id": "0ad378fa-4383-400f-9703-6859a36444a6",
   "metadata": {},
   "source": [
    "# Finally collect all the data call all the data in a list form then filter it by indexing and return only the uber raw data csv files then remove the uber jan-june data"
   ]
  },
  {
   "cell_type": "code",
   "execution_count": 82,
   "id": "ad281ea9-490b-4bb5-891e-1dff89add8e2",
   "metadata": {},
   "outputs": [
    {
     "name": "stdout",
     "output_type": "stream",
     "text": [
      "Extracted Files: ['Uber-Jan-Feb-FOIL.csv', 'uber-raw-data-apr14.csv', 'uber-raw-data-aug14.csv', 'uber-raw-data-janjune-15.csv', 'uber-raw-data-janjune-15_sample.csv', 'uber-raw-data-jul14.csv', 'uber-raw-data-jun14.csv', 'uber-raw-data-may14.csv', 'uber-raw-data-sep14.csv']\n",
      "-------------------------------------------------------------------------------------------------------------------------------------------\n",
      "Updated file list after removal: ['other-American_B01362.csv', 'other-Carmel_B00256.csv', 'other-Dial7_B00887.csv', 'other-Diplo_B01196.csv', 'other-Federal_02216.csv', 'other-FHV-services_jan-aug-2015.csv', 'other-Firstclass_B01536.csv', 'other-Highclass_B01717.csv', 'other-Lyft_B02510.csv', 'other-Prestige_B01338.csv', 'other-Skyline_B00111.csv', 'Uber-Jan-Feb-FOIL.csv', 'uber-raw-data-apr14.csv', 'uber-raw-data-aug14.csv', 'uber-raw-data-janjune-15_sample.csv', 'uber-raw-data-jul14.csv', 'uber-raw-data-jun14.csv', 'uber-raw-data-may14.csv', 'uber-raw-data-sep14.csv']\n"
     ]
    }
   ],
   "source": [
    "import os\n",
    "\n",
    "# Collecting all file names from the folder\n",
    "all_files = os.listdir(r\"C:\\Users\\admin\\Downloads\\Datasets\")\n",
    "\n",
    "# Extracting the last 9 files using negative indexing\n",
    "Extract = all_files[-9:]\n",
    "print(\"Extracted Files:\", Extract)\n",
    "\n",
    "print(\"-------------------------------------------------------------------------------------------------------------------------------------------\")\n",
    "\n",
    "# Removing Jan_June Data file\n",
    "if \"uber-raw-data-janjune-15.csv\" in all_files:\n",
    "    all_files.remove(\"uber-raw-data-janjune-15.csv\")\n",
    "    print(\"Updated file list after removal:\", all_files)\n",
    "else:\n",
    "    print(\"File not found in the list.\")\n"
   ]
  },
  {
   "cell_type": "code",
   "execution_count": null,
   "id": "e4386412-3b4c-46d7-b570-2a56d1a8c654",
   "metadata": {},
   "outputs": [],
   "source": []
  }
 ],
 "metadata": {
  "kernelspec": {
   "display_name": "Python 3 (ipykernel)",
   "language": "python",
   "name": "python3"
  },
  "language_info": {
   "codemirror_mode": {
    "name": "ipython",
    "version": 3
   },
   "file_extension": ".py",
   "mimetype": "text/x-python",
   "name": "python",
   "nbconvert_exporter": "python",
   "pygments_lexer": "ipython3",
   "version": "3.13.2"
  }
 },
 "nbformat": 4,
 "nbformat_minor": 5
}
